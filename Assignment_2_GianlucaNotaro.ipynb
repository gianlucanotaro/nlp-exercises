{
 "cells": [
  {
   "cell_type": "markdown",
   "metadata": {},
   "source": [
    "# Assignment 2 / Author Profiling -- Gender and Age"
   ]
  },
  {
   "cell_type": "code",
   "execution_count": 2,
   "metadata": {},
   "outputs": [],
   "source": [
    "import nltk\n",
    "import numpy as np\n",
    "import pandas as pd\n",
    "from sklearn.metrics import confusion_matrix\n",
    "from sklearn.feature_extraction.text import CountVectorizer\n",
    "from sklearn.feature_extraction.text import TfidfTransformer\n",
    "import itertools\n",
    "from sklearn.pipeline import Pipeline\n",
    "from sklearn.naive_bayes import MultinomialNB\n",
    "from sklearn.metrics import confusion_matrix\n",
    "import matplotlib.pyplot as plt\n",
    "import sys\n",
    "from sklearn.metrics import classification_report"
   ]
  },
  {
   "cell_type": "code",
   "execution_count": 3,
   "metadata": {},
   "outputs": [],
   "source": [
    "def plot_confusion_matrix(cm, classes, title = 'Confusion matrix', cmap = plt.cm.Greens):\n",
    "    plt.title(title)\n",
    "    tick_marks = np.arange(len(classes))\n",
    "    plt.xticks(tick_marks, classes, rotation = 45)\n",
    "    plt.yticks(tick_marks, classes)\n",
    "\n",
    "    cm_norm = cm.astype('float') / cm.sum(axis=1)[:, np.newaxis]\n",
    "    cm_norm[np.isnan(cm_norm)] = 0\n",
    "    cm_norm = np.around(cm_norm, decimals = 3)\n",
    "        \n",
    "    plt.imshow(cm_norm, interpolation='nearest', cmap = cmap)\n",
    "    \n",
    "    thresh = cm_norm.max() / 2.\n",
    "    for i, j in itertools.product(range(cm_norm.shape[0]), range(cm_norm.shape[1])):\n",
    "        plt.text(j, i, cm[i, j], horizontalalignment=\"center\", color=\"white\" if cm_norm[i, j] > thresh else \"black\")\n",
    "\n",
    "    plt.tight_layout()\n",
    "    plt.ylabel('True label')\n",
    "    plt.xlabel('Predicted label')\n",
    "    plt.show()"
   ]
  },
  {
   "cell_type": "code",
   "execution_count": 4,
   "metadata": {},
   "outputs": [],
   "source": [
    "def matrixmerge(text1, text2):\n",
    "    col = []\n",
    "    for i in range(len(text1)):\n",
    "        if text1[i] == 'male' and text2[i] == '10s':\n",
    "            col.append('male 10s')\n",
    "        elif text1[i] == 'male' and text2[i] == '20s':\n",
    "            col.append('male 20s')\n",
    "        elif text1[i] == 'male' and text2[i] == '30s':\n",
    "            col.append('male 30s')\n",
    "        elif text1[i] == 'female' and text2[i] == '10s':\n",
    "            col.append('female 10s')\n",
    "        elif text1[i] == 'female' and text2[i] == '20s':\n",
    "            col.append('female 20s')\n",
    "        elif text1[i] == 'female' and text2[i] == '30s':\n",
    "            col.append('female 30s')\n",
    "    return col"
   ]
  },
  {
   "cell_type": "markdown",
   "metadata": {},
   "source": [
    "## Daten einlesen"
   ]
  },
  {
   "cell_type": "code",
   "execution_count": 5,
   "metadata": {},
   "outputs": [],
   "source": [
    "messages = pd.read_csv('Messages_train.csv', sep=',')"
   ]
  },
  {
   "cell_type": "code",
   "execution_count": 6,
   "metadata": {
    "scrolled": true
   },
   "outputs": [
    {
     "data": {
      "text/html": [
       "<div>\n",
       "<style scoped>\n",
       "    .dataframe tbody tr th:only-of-type {\n",
       "        vertical-align: middle;\n",
       "    }\n",
       "\n",
       "    .dataframe tbody tr th {\n",
       "        vertical-align: top;\n",
       "    }\n",
       "\n",
       "    .dataframe thead th {\n",
       "        text-align: right;\n",
       "    }\n",
       "</style>\n",
       "<table border=\"1\" class=\"dataframe\">\n",
       "  <thead>\n",
       "    <tr style=\"text-align: right;\">\n",
       "      <th></th>\n",
       "      <th>id</th>\n",
       "      <th>text</th>\n",
       "      <th>person_gender</th>\n",
       "      <th>person_age</th>\n",
       "    </tr>\n",
       "  </thead>\n",
       "  <tbody>\n",
       "    <tr>\n",
       "      <th>0</th>\n",
       "      <td>117808</td>\n",
       "      <td>The particular DKNY bags are among the leading...</td>\n",
       "      <td>male</td>\n",
       "      <td>20s</td>\n",
       "    </tr>\n",
       "    <tr>\n",
       "      <th>1</th>\n",
       "      <td>5634</td>\n",
       "      <td>Dental implants are posts made of titanium tha...</td>\n",
       "      <td>female</td>\n",
       "      <td>30s</td>\n",
       "    </tr>\n",
       "    <tr>\n",
       "      <th>2</th>\n",
       "      <td>94820</td>\n",
       "      <td>&lt;p style=\"text-align:center;]&lt;a href=\"http://e...</td>\n",
       "      <td>female</td>\n",
       "      <td>20s</td>\n",
       "    </tr>\n",
       "    <tr>\n",
       "      <th>3</th>\n",
       "      <td>64510</td>\n",
       "      <td>The primary business I joined was the Gospel N...</td>\n",
       "      <td>male</td>\n",
       "      <td>20s</td>\n",
       "    </tr>\n",
       "    <tr>\n",
       "      <th>4</th>\n",
       "      <td>89288</td>\n",
       "      <td>Taking QR Codes to Another Level&lt;br /&gt;QR Codes...</td>\n",
       "      <td>female</td>\n",
       "      <td>30s</td>\n",
       "    </tr>\n",
       "  </tbody>\n",
       "</table>\n",
       "</div>"
      ],
      "text/plain": [
       "       id                                               text person_gender  \\\n",
       "0  117808  The particular DKNY bags are among the leading...          male   \n",
       "1    5634  Dental implants are posts made of titanium tha...        female   \n",
       "2   94820  <p style=\"text-align:center;]<a href=\"http://e...        female   \n",
       "3   64510  The primary business I joined was the Gospel N...          male   \n",
       "4   89288  Taking QR Codes to Another Level<br />QR Codes...        female   \n",
       "\n",
       "  person_age  \n",
       "0        20s  \n",
       "1        30s  \n",
       "2        20s  \n",
       "3        20s  \n",
       "4        30s  "
      ]
     },
     "execution_count": 6,
     "metadata": {},
     "output_type": "execute_result"
    }
   ],
   "source": [
    "messages.head()"
   ]
  },
  {
   "cell_type": "code",
   "execution_count": 7,
   "metadata": {},
   "outputs": [],
   "source": [
    "#prepare data\n",
    "N = len(messages)\n",
    "texts = []\n",
    "genders = []\n",
    "age = []\n",
    "\n",
    "for i in range(N):\n",
    "    texts.append(messages['text'][i])\n",
    "    genders.append(messages['person_gender'][i])\n",
    "    age.append(messages['person_age'][i])\n",
    "    \n",
    "train_text = texts[:int(N*0.8)]\n",
    "train_gender = genders[:int(N*0.8)]\n",
    "train_age = age[:int(N*0.8)]\n",
    "\n",
    "validation_text = texts[int(N*0.8):]\n",
    "validation_gender = genders[int(N*0.8):]\n",
    "validation_age = age[int(N*0.8):]"
   ]
  },
  {
   "cell_type": "markdown",
   "metadata": {},
   "source": [
    "# Classifier trainieren"
   ]
  },
  {
   "cell_type": "code",
   "execution_count": 8,
   "metadata": {},
   "outputs": [],
   "source": [
    "\n",
    "# Wurde zuerst mit SVM probiert, jedoch war NB genauer\n",
    "'''gender_clf_svm = Pipeline([('vect', CountVectorizer()),\n",
    "                      ('tfidf', TfidfTransformer()),\n",
    "                      ('clf-svm', SGDClassifier(loss='hinge', penalty='l2',\n",
    "                       alpha=1e-3, n_iter=5, random_state=42)),\n",
    " ])\n",
    "\n",
    "age_clf_svm = Pipeline([('vect', CountVectorizer()),\n",
    "                      ('tfidf', TfidfTransformer()),\n",
    "                      ('clf-svm', SGDClassifier(loss='hinge', penalty='l2',\n",
    "                       alpha=1e-3, n_iter=5, random_state=42)),\n",
    " ])\n",
    "_ = gender_clf_svm.fit(train_text, train_gender)\n",
    "predicted_svm_gender = gender_clf_svm.predict(validation_text)\n",
    "    \n",
    "_ = age_clf_svm.fit(train_text, train_age)\n",
    "predicted_svm_age = age_clf_svm.predict(validation_text)\\\n",
    "'''\n",
    "text_clf_age = Pipeline([('vect', CountVectorizer()),\n",
    "                      ('tfidf', TfidfTransformer()),\n",
    "                      ('clf', MultinomialNB()),\n",
    " ])\n",
    "\n",
    "text_clf_gender = Pipeline([('vect', CountVectorizer()),\n",
    "                      ('tfidf', TfidfTransformer()),\n",
    "                      ('clf', MultinomialNB()),\n",
    " ])\n",
    "\n",
    "text_clf_age = text_clf_age.fit(train_text, train_age)\n",
    "predicted_age = text_clf_age.predict(train_text)\n",
    "text_clf_gender = text_clf_gender.fit(train_text, train_gender)\n",
    "predicted_gender = text_clf_gender.predict(train_text)\n"
   ]
  },
  {
   "cell_type": "markdown",
   "metadata": {},
   "source": [
    "# Genauigkeiten "
   ]
  },
  {
   "cell_type": "code",
   "execution_count": 9,
   "metadata": {},
   "outputs": [
    {
     "name": "stdout",
     "output_type": "stream",
     "text": [
      "Gender:  0.7204375\n",
      "Age:  0.5736875\n"
     ]
    }
   ],
   "source": [
    "print('Gender: ', np.mean(predicted_gender == train_gender))\n",
    "print('Age: ', np.mean(predicted_age == train_age))"
   ]
  },
  {
   "cell_type": "markdown",
   "metadata": {},
   "source": [
    "## Classifiers"
   ]
  },
  {
   "cell_type": "code",
   "execution_count": 10,
   "metadata": {},
   "outputs": [],
   "source": [
    "def classify_gender(text):\n",
    "    text = [text]\n",
    "    predict = text_clf_gender.predict(text)\n",
    "    return predict[0]\n",
    "    \n",
    "\n",
    "def classify_age(text):\n",
    "    text = [text]\n",
    "    predict = text_clf_age.predict(text)\n",
    "    return predict[0]"
   ]
  },
  {
   "cell_type": "code",
   "execution_count": 16,
   "metadata": {},
   "outputs": [],
   "source": [
    "# Clasisfiers testen\n",
    "test_ages = []\n",
    "test_genders = []\n",
    "test_both = []\n",
    "for text in validation_text:\n",
    "    test_ages.append(classify_age(text))\n",
    "    test_genders.append(classify_gender(text))"
   ]
  },
  {
   "cell_type": "markdown",
   "metadata": {},
   "source": [
    "# Test mit validation"
   ]
  },
  {
   "cell_type": "code",
   "execution_count": 17,
   "metadata": {},
   "outputs": [
    {
     "name": "stderr",
     "output_type": "stream",
     "text": [
      "/usr/lib/python3.7/site-packages/ipykernel_launcher.py:7: RuntimeWarning: invalid value encountered in true_divide\n",
      "  import sys\n"
     ]
    },
    {
     "data": {
      "image/png": "[encoded data removed]",
      "text/plain": [
       "<Figure size 432x288 with 1 Axes>"
      ]
     },
     "metadata": {
      "needs_background": "light"
     },
     "output_type": "display_data"
    },
    {
     "name": "stderr",
     "output_type": "stream",
     "text": [
      "/usr/lib/python3.7/site-packages/sklearn/metrics/classification.py:1143: UndefinedMetricWarning: Precision and F-score are ill-defined and being set to 0.0 in labels with no predicted samples.\n",
      "  'precision', 'predicted', average, warn_for)\n"
     ]
    },
    {
     "name": "stdout",
     "output_type": "stream",
     "text": [
      "              precision    recall  f1-score   support\n",
      "\n",
      "         10s       0.00      0.00      0.00      3179\n",
      "         20s       0.67      0.08      0.14      5979\n",
      "         30s       0.56      0.99      0.71     10842\n",
      "\n",
      "   micro avg       0.56      0.56      0.56     20000\n",
      "   macro avg       0.41      0.36      0.28     20000\n",
      "weighted avg       0.50      0.56      0.43     20000\n",
      "\n"
     ]
    },
    {
     "data": {
      "image/png": "[encoded data removed]",
      "text/plain": [
       "<Figure size 432x288 with 1 Axes>"
      ]
     },
     "metadata": {
      "needs_background": "light"
     },
     "output_type": "display_data"
    },
    {
     "name": "stdout",
     "output_type": "stream",
     "text": [
      "              precision    recall  f1-score   support\n",
      "\n",
      "      female       0.56      0.72      0.63      9600\n",
      "        male       0.65      0.47      0.54     10400\n",
      "\n",
      "   micro avg       0.59      0.59      0.59     20000\n",
      "   macro avg       0.60      0.60      0.59     20000\n",
      "weighted avg       0.60      0.59      0.59     20000\n",
      "\n"
     ]
    },
    {
     "data": {
      "image/png": "[encoded data removed]",
      "text/plain": [
       "<Figure size 432x288 with 1 Axes>"
      ]
     },
     "metadata": {
      "needs_background": "light"
     },
     "output_type": "display_data"
    },
    {
     "name": "stdout",
     "output_type": "stream",
     "text": [
      "              precision    recall  f1-score   support\n",
      "\n",
      "  female 10s       0.00      0.00      0.00         0\n",
      "  female 20s       0.02      0.27      0.03       158\n",
      "  female 30s       0.75      0.36      0.49     12281\n",
      "    male 10s       0.00      0.00      0.00         0\n",
      "    male 20s       0.08      0.52      0.14       547\n",
      "    male 30s       0.43      0.30      0.35      7014\n",
      "\n",
      "   micro avg       0.34      0.34      0.34     20000\n",
      "   macro avg       0.21      0.24      0.17     20000\n",
      "weighted avg       0.61      0.34      0.43     20000\n",
      "\n"
     ]
    },
    {
     "name": "stderr",
     "output_type": "stream",
     "text": [
      "/usr/lib/python3.7/site-packages/sklearn/metrics/classification.py:1145: UndefinedMetricWarning: Recall and F-score are ill-defined and being set to 0.0 in labels with no true samples.\n",
      "  'recall', 'true', average, warn_for)\n"
     ]
    }
   ],
   "source": [
    "cm = confusion_matrix(test_ages, validation_age)\n",
    "plot_confusion_matrix(cm, ['10s', '20s', '30s'])\n",
    "print(classification_report(validation_age, test_ages))\n",
    "\n",
    "cm = confusion_matrix(test_genders, validation_gender)\n",
    "plot_confusion_matrix(cm, ['male', 'female'])\n",
    "print(classification_report(validation_gender, test_genders))\n",
    "\n",
    "merge = matrixmerge(test_genders, test_ages)\n",
    "merge2 = matrixmerge(validation_gender, validation_age)\n",
    "cm = confusion_matrix(merge2, merge)\n",
    "plot_confusion_matrix(cm, ['male 10s', 'male 20s', 'male 30s', 'female 10s', 'female 20s', 'female 30s'])\n",
    "print(classification_report(merge, merge2))"
   ]
  },
  {
   "cell_type": "markdown",
   "metadata": {},
   "source": [
    "# Auswertung Validation\n",
    "\n",
    "Die Genauigkeit ist mit dem Validationset noch genau.\n",
    "\n",
    "Jedoch ist das Set nicht gleichmässig eingeteilt:\n"
   ]
  },
  {
   "cell_type": "code",
   "execution_count": 18,
   "metadata": {},
   "outputs": [
    {
     "name": "stdout",
     "output_type": "stream",
     "text": [
      "10s:  16000\n",
      "20s:  30000\n",
      "30s:  54000\n"
     ]
    }
   ],
   "source": [
    "count10 = 0\n",
    "count20 = 0\n",
    "count30 = 0\n",
    "\n",
    "for i in range(N):\n",
    "    if(messages['person_age'][i] == '10s'):\n",
    "        count10 = count10 + 1\n",
    "    if(messages['person_age'][i] == '20s'):\n",
    "        count20 = count20 + 1\n",
    "    if(messages['person_age'][i] == '30s'):\n",
    "        count30 = count30 + 1\n",
    "        \n",
    "print('10s: ', count10)\n",
    "print('20s: ', count20)\n",
    "print('30s: ', count30)\n"
   ]
  },
  {
   "cell_type": "markdown",
   "metadata": {},
   "source": [
    "Man sieht dass, je mehr Datensätze für ein Label vorhanden sind, desto genauer wird klassifiziert\n"
   ]
  },
  {
   "cell_type": "markdown",
   "metadata": {},
   "source": [
    "# Test mit Dummy Data"
   ]
  },
  {
   "cell_type": "code",
   "execution_count": 19,
   "metadata": {},
   "outputs": [],
   "source": [
    "test_messages = pd.read_csv('dummy_test.csv', sep=',')\n",
    "test_ages = []\n",
    "test_genders = []\n",
    "test_both = []\n",
    "for text in test_messages['text']:\n",
    "    test_ages.append(classify_age(text))\n",
    "    test_genders.append(classify_gender(text))\n",
    "    "
   ]
  },
  {
   "cell_type": "markdown",
   "metadata": {},
   "source": [
    "# Auswertung mit Dummy Data"
   ]
  },
  {
   "cell_type": "code",
   "execution_count": 21,
   "metadata": {},
   "outputs": [
    {
     "data": {
      "image/png": "[encoded data removed]",
      "text/plain": [
       "<Figure size 432x288 with 1 Axes>"
      ]
     },
     "metadata": {
      "needs_background": "light"
     },
     "output_type": "display_data"
    },
    {
     "name": "stdout",
     "output_type": "stream",
     "text": [
      "              precision    recall  f1-score   support\n",
      "\n",
      "         10s       0.00      0.00      0.00        10\n",
      "         20s       0.00      0.00      0.00        10\n",
      "         30s       0.33      0.90      0.49        10\n",
      "\n",
      "   micro avg       0.30      0.30      0.30        30\n",
      "   macro avg       0.11      0.30      0.16        30\n",
      "weighted avg       0.11      0.30      0.16        30\n",
      "\n"
     ]
    },
    {
     "data": {
      "image/png": "[encoded data removed]",
      "text/plain": [
       "<Figure size 432x288 with 1 Axes>"
      ]
     },
     "metadata": {
      "needs_background": "light"
     },
     "output_type": "display_data"
    },
    {
     "name": "stdout",
     "output_type": "stream",
     "text": [
      "              precision    recall  f1-score   support\n",
      "\n",
      "      female       0.42      0.53      0.47        15\n",
      "        male       0.36      0.27      0.31        15\n",
      "\n",
      "   micro avg       0.40      0.40      0.40        30\n",
      "   macro avg       0.39      0.40      0.39        30\n",
      "weighted avg       0.39      0.40      0.39        30\n",
      "\n"
     ]
    },
    {
     "data": {
      "image/png": "[encoded data removed]",
      "text/plain": [
       "<Figure size 432x288 with 1 Axes>"
      ]
     },
     "metadata": {
      "needs_background": "light"
     },
     "output_type": "display_data"
    },
    {
     "name": "stdout",
     "output_type": "stream",
     "text": [
      "              precision    recall  f1-score   support\n",
      "\n",
      "  female 10s       0.00      0.00      0.00         0\n",
      "  female 20s       0.00      0.00      0.00         1\n",
      "  female 30s       0.20      0.06      0.09        18\n",
      "    male 10s       0.00      0.00      0.00         0\n",
      "    male 20s       0.00      0.00      0.00         2\n",
      "    male 30s       0.20      0.11      0.14         9\n",
      "\n",
      "   micro avg       0.07      0.07      0.07        30\n",
      "   macro avg       0.07      0.03      0.04        30\n",
      "weighted avg       0.18      0.07      0.10        30\n",
      "\n"
     ]
    }
   ],
   "source": [
    "cm = confusion_matrix(test_messages['person_age'], test_ages)\n",
    "plot_confusion_matrix(cm, ['10s', '20s', '30s'])\n",
    "print(classification_report(test_messages['person_age'], test_ages))\n",
    "\n",
    "cm = confusion_matrix(test_messages['person_gender'], test_genders)\n",
    "plot_confusion_matrix(cm, ['male', 'female'])\n",
    "print(classification_report(test_messages['person_gender'], test_genders))\n",
    "\n",
    "merge = matrixmerge(test_genders, test_ages)\n",
    "merge2 = matrixmerge(test_messages['person_gender'], test_messages['person_age'])\n",
    "cm = confusion_matrix(merge2, merge)\n",
    "plot_confusion_matrix(cm, ['male 10s', 'male 20s', 'male 30s', 'female 10s', 'female 20s', 'female 30s'])\n",
    "print(classification_report(merge,merge2))\n"
   ]
  },
  {
   "cell_type": "markdown",
   "metadata": {},
   "source": [
    "Wie man sieht ist es mit dem Dummy Test sehr ungenau geworden"
   ]
  },
  {
   "cell_type": "code",
   "execution_count": null,
   "metadata": {},
   "outputs": [],
   "source": []
  },
  {
   "cell_type": "code",
   "execution_count": null,
   "metadata": {},
   "outputs": [],
   "source": []
  }
 ],
 "metadata": {
  "kernelspec": {
   "display_name": "Python 3",
   "language": "python",
   "name": "python3"
  },
  "language_info": {
   "codemirror_mode": {
    "name": "ipython",
    "version": 3
   },
   "file_extension": ".py",
   "mimetype": "text/x-python",
   "name": "python",
   "nbconvert_exporter": "python",
   "pygments_lexer": "ipython3",
   "version": "3.7.3"
  },
  "varInspector": {
   "cols": {
    "lenName": 16,
    "lenType": 16,
    "lenVar": 40
   },
   "kernels_config": {
    "python": {
     "delete_cmd_postfix": "",
     "delete_cmd_prefix": "del ",
     "library": "var_list.py",
     "varRefreshCmd": "print(var_dic_list())"
    },
    "r": {
     "delete_cmd_postfix": ") ",
     "delete_cmd_prefix": "rm(",
     "library": "var_list.r",
     "varRefreshCmd": "cat(var_dic_list()) "
    }
   },
   "types_to_exclude": [
    "module",
    "function",
    "builtin_function_or_method",
    "instance",
    "_Feature"
   ],
   "window_display": false
  }
 },
 "nbformat": 4,
 "nbformat_minor": 2
}
